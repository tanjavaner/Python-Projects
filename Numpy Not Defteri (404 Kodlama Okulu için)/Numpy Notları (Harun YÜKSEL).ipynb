{
 "cells": [
  {
   "cell_type": "markdown",
   "id": "7a22ae4d",
   "metadata": {},
   "source": [
    "# Numpy Notları #\n",
    "\n",
    "Hazırlayan : Harun YÜKSEL"
   ]
  },
  {
   "cell_type": "markdown",
   "id": "a3a73f0c",
   "metadata": {},
   "source": [
    "NumPy, Python programlama dilinde bilimsel hesaplama için kullanılan bir kütüphanedir. NumPy, çok boyutlu dizileri (arrays) ve matrisleri (matrices) yönetmek için optimize edilmiştir. Bu nedenle, bilimsel hesaplama, veri analizi ve makine öğrenmesi gibi uygulamalar için sıklıkla kullanılır.\n",
    "\n",
    "NumPy'nin ana avantajı, çok boyutlu dizilerin yüksek performanslı matematiksel işlemlerini yapabilmesidir. NumPy, birçok matematiksel fonksiyonu, lineer cebir işlemlerini, Fourier dönüşümlerini, rastgele sayı üretimini ve daha birçok işlemi içeren geniş bir matematiksel işlevler kütüphanesine sahiptir. Ayrıca, NumPy'nin bu fonksiyonları C dilinde yazılmıştır, bu da NumPy'nin yüksek performansını sağlar."
   ]
  },
  {
   "cell_type": "code",
   "execution_count": 28,
   "id": "7977fa84",
   "metadata": {},
   "outputs": [
    {
     "name": "stdout",
     "output_type": "stream",
     "text": [
      "2\n",
      "2\n",
      "6\n"
     ]
    }
   ],
   "source": [
    "import numpy as np\n",
    "\n",
    "# 1 boyutlu dizi oluşturma\n",
    "arr1 = np.array([1, 2, 3, 4, 5])\n",
    "\n",
    "# 2 boyutlu dizi oluşturma\n",
    "arr2 = np.array([[1, 2, 3], [4, 5, 6]])\n",
    "\n",
    "# Belirli bir aralıktaki sayılardan dizi oluşturma\n",
    "arr3 = np.arange(0, 10, 2)\n",
    "\n",
    "print(arr1[1])\n",
    "print(arr2[0][1])\n",
    "print(arr3[3])"
   ]
  },
  {
   "cell_type": "code",
   "execution_count": null,
   "id": "a2f8684c",
   "metadata": {},
   "outputs": [],
   "source": []
  }
 ],
 "metadata": {
  "kernelspec": {
   "display_name": "Python 3 (ipykernel)",
   "language": "python",
   "name": "python3"
  },
  "language_info": {
   "codemirror_mode": {
    "name": "ipython",
    "version": 3
   },
   "file_extension": ".py",
   "mimetype": "text/x-python",
   "name": "python",
   "nbconvert_exporter": "python",
   "pygments_lexer": "ipython3",
   "version": "3.11.2"
  }
 },
 "nbformat": 4,
 "nbformat_minor": 5
}
